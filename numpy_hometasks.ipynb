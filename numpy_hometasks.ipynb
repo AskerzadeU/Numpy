{
 "cells": [
  {
   "cell_type": "markdown",
   "id": "c6a205ac",
   "metadata": {},
   "source": [
    "\n",
    "# 🧮 NumPy Mega Homework (60+ Tasks)\n",
    "\n",
    "This workbook contains **lots** of NumPy practice tasks, grouped by topic.  \n",
    "For each task, write your solution in the empty code cell that follows it.\n",
    "\n",
    "**Rules**\n",
    "- Use **NumPy** (`import numpy as np`) for array operations.\n",
    "- Do **not** use Python lists for computations unless explicitly asked.\n",
    "- Add comments to explain key steps.\n",
    "\n",
    "**Sections**\n",
    "1. Array Basics & Creation (10 tasks)  \n",
    "2. Indexing & Slicing (8 tasks)  \n",
    "3. Array Operations & Broadcasting (8 tasks)  \n",
    "4. Mathematical Functions (6 tasks)  \n",
    "5. Aggregations & Descriptive Stats (6 tasks)  \n",
    "6. Random Numbers & Simulations (8 tasks)  \n",
    "7. Linear Algebra (6 tasks)  \n",
    "8. Reshaping, Stacking & Splitting (5 tasks)  \n",
    "9. Real‑World Mini Case Studies (7 tasks)\n"
   ]
  },
  {
   "cell_type": "markdown",
   "id": "1e886216",
   "metadata": {},
   "source": [
    "## 1) Array Basics & Creation"
   ]
  },
  {
   "cell_type": "markdown",
   "id": "164e5004",
   "metadata": {},
   "source": [
    "**1.1** Import NumPy as `np` and print the installed version."
   ]
  },
  {
   "cell_type": "code",
   "execution_count": 1,
   "id": "173cd4b9",
   "metadata": {},
   "outputs": [],
   "source": [
    "import numpy as np"
   ]
  },
  {
   "cell_type": "markdown",
   "id": "5267b3e7",
   "metadata": {},
   "source": [
    "**1.2** Create a 1D array with values from 0 to 20 (inclusive)."
   ]
  },
  {
   "cell_type": "code",
   "execution_count": 2,
   "id": "aca63257",
   "metadata": {},
   "outputs": [
    {
     "name": "stdout",
     "output_type": "stream",
     "text": [
      "[ 0  1  2  3  4  5  6  7  8  9 10 11 12 13 14 15 16 17 18 19 20]\n"
     ]
    }
   ],
   "source": [
    "# Using arange\n",
    "arr = np.arange(0, 21)  # 0 to 20 inclusive\n",
    "print(arr)\n"
   ]
  },
  {
   "cell_type": "markdown",
   "id": "d597f989",
   "metadata": {},
   "source": [
    "**1.3** Create a 1D array of the first 15 even numbers."
   ]
  },
  {
   "cell_type": "code",
   "execution_count": 208,
   "id": "08aa7a14",
   "metadata": {},
   "outputs": [
    {
     "name": "stdout",
     "output_type": "stream",
     "text": [
      "[ 2  4  6  8 10 12 14 16 18 20 22 24 26 28 30]\n"
     ]
    }
   ],
   "source": [
    "# First 15 even numbers\n",
    "even_numbers = np.arange(2, 31, 2)\n",
    "print(even_numbers)"
   ]
  },
  {
   "cell_type": "markdown",
   "id": "9e404b50",
   "metadata": {},
   "source": [
    "**1.4** Create a 3×3 array filled with 7s (use `np.full`)."
   ]
  },
  {
   "cell_type": "code",
   "execution_count": 209,
   "id": "b2194256",
   "metadata": {},
   "outputs": [
    {
     "name": "stdout",
     "output_type": "stream",
     "text": [
      "[[7 7 7]\n",
      " [7 7 7]\n",
      " [7 7 7]]\n"
     ]
    }
   ],
   "source": [
    "arr1 = np.full((3, 3), 7)\n",
    "print(arr1)"
   ]
  },
  {
   "cell_type": "markdown",
   "id": "62188211",
   "metadata": {},
   "source": [
    "**1.5** Create a 5×5 identity matrix."
   ]
  },
  {
   "cell_type": "code",
   "execution_count": 210,
   "id": "7576ea1b",
   "metadata": {},
   "outputs": [
    {
     "name": "stdout",
     "output_type": "stream",
     "text": [
      "[[1. 0. 0. 0. 0.]\n",
      " [0. 1. 0. 0. 0.]\n",
      " [0. 0. 1. 0. 0.]\n",
      " [0. 0. 0. 1. 0.]\n",
      " [0. 0. 0. 0. 1.]]\n"
     ]
    }
   ],
   "source": [
    "# Using np.eye\n",
    "identity_matrix = np.eye(5)\n",
    "print(identity_matrix)"
   ]
  },
  {
   "cell_type": "markdown",
   "id": "a0241698",
   "metadata": {},
   "source": [
    "**1.6** Create an array of 10 numbers linearly spaced between 0 and 1 (inclusive)."
   ]
  },
  {
   "cell_type": "code",
   "execution_count": 212,
   "id": "8f9443bc",
   "metadata": {},
   "outputs": [
    {
     "name": "stdout",
     "output_type": "stream",
     "text": [
      "[0.         0.11111111 0.22222222 0.33333333 0.44444444 0.55555556\n",
      " 0.66666667 0.77777778 0.88888889 1.        ]\n"
     ]
    }
   ],
   "source": [
    "arr2 = np.linspace(0, 1, 10)  # 10 numbers from 0 to 1 inclusive\n",
    "print(arr2)\n"
   ]
  },
  {
   "cell_type": "markdown",
   "id": "8cbceb27",
   "metadata": {},
   "source": [
    "**1.7** Create an array of 12 values logarithmically spaced between 10^0 and 10^3."
   ]
  },
  {
   "cell_type": "code",
   "execution_count": 3,
   "id": "3e855762",
   "metadata": {},
   "outputs": [
    {
     "name": "stdout",
     "output_type": "stream",
     "text": [
      "[   1.            1.87381742    3.51119173    6.57933225   12.32846739\n",
      "   23.101297     43.28761281   81.11308308  151.9911083   284.80358684\n",
      "  533.66992312 1000.        ]\n"
     ]
    }
   ],
   "source": [
    "# 12 values from 10^0 to 10^3\n",
    "arr5 = np.logspace(0, 3, 12)\n",
    "print(arr5)\n"
   ]
  },
  {
   "cell_type": "markdown",
   "id": "e3e0dfc1",
   "metadata": {},
   "source": [
    "**1.8** Create a boolean array of length 12 that alternates `True, False, True, False, ...`."
   ]
  },
  {
   "cell_type": "code",
   "execution_count": 2,
   "id": "78a61872",
   "metadata": {},
   "outputs": [
    {
     "name": "stdout",
     "output_type": "stream",
     "text": [
      "[ True False  True False  True False  True False  True False  True False]\n"
     ]
    }
   ],
   "source": [
    "# repeat pattern 6 times\n",
    "arr6=np.tile([True,False],6)\n",
    "print(arr6)"
   ]
  },
  {
   "cell_type": "markdown",
   "id": "a19230ba",
   "metadata": {},
   "source": [
    "**1.9** Create a 4×4 array of random integers from 10 to 99 (inclusive)."
   ]
  },
  {
   "cell_type": "code",
   "execution_count": 4,
   "id": "735ed9dc",
   "metadata": {},
   "outputs": [
    {
     "name": "stdout",
     "output_type": "stream",
     "text": [
      "[[26 34 69 55]\n",
      " [65 86 29 24]\n",
      " [54 48 55 80]\n",
      " [85 60 62 68]]\n"
     ]
    }
   ],
   "source": [
    "arr7=np.random.randint(10,100,(4,4))\n",
    "print(arr7)"
   ]
  },
  {
   "cell_type": "markdown",
   "id": "5fa2e95a",
   "metadata": {},
   "source": [
    "**1.10** Given `a = np.array([1, 2, 3], dtype=np.int32)`, change its dtype to float64 without copying if possible."
   ]
  },
  {
   "cell_type": "code",
   "execution_count": 9,
   "id": "1319dbc6",
   "metadata": {},
   "outputs": [
    {
     "data": {
      "text/plain": [
       "dtype('float64')"
      ]
     },
     "execution_count": 9,
     "metadata": {},
     "output_type": "execute_result"
    }
   ],
   "source": [
    "a=np.array([1, 2, 3])\n",
    "arr8A=np.float64(a)                        #version1\n",
    "\n",
    "arr8B=a.astype(np.float64,copy=False)      #version2\n",
    "\n",
    "arr8A.dtype                                \n",
    "arr8B.dtype"
   ]
  },
  {
   "cell_type": "markdown",
   "id": "adb3e842",
   "metadata": {},
   "source": [
    "## 2) Indexing & Slicing"
   ]
  },
  {
   "cell_type": "markdown",
   "id": "23439e82",
   "metadata": {},
   "source": [
    "**2.1** Create an array `x = np.arange(1, 26).reshape(5,5)`. Extract the **center 3×3 block**."
   ]
  },
  {
   "cell_type": "code",
   "execution_count": 5,
   "id": "9788538d",
   "metadata": {},
   "outputs": [
    {
     "name": "stdout",
     "output_type": "stream",
     "text": [
      "[[ 7  8  9]\n",
      " [12 13 14]\n",
      " [17 18 19]]\n"
     ]
    }
   ],
   "source": [
    "x=np.arange(1,26).reshape(5,5)        \n",
    "result=x[1:4,1:4]                       # 1:4 for rows selects rows 1, 2, 3\n",
    "                                    # 1:4 for columns selects columns 1, 2, 3\n",
    "print(result)                 "
   ]
  },
  {
   "cell_type": "markdown",
   "id": "ba4e74d5",
   "metadata": {},
   "source": [
    "**2.2** From `x` above, extract the **border elements** (top row, bottom row, leftmost column, rightmost column) into a 1D array."
   ]
  },
  {
   "cell_type": "code",
   "execution_count": 11,
   "id": "dea7758e",
   "metadata": {},
   "outputs": [
    {
     "name": "stdout",
     "output_type": "stream",
     "text": [
      "[ 1  2  3  4  5 21 22 23 24 25  6 11 16 10 15 20]\n"
     ]
    }
   ],
   "source": [
    "top=x[0,:]\n",
    "bottom=x[-1,:]\n",
    "left=x[1:-1,0] #Left column-excluding top and bottom, because they are already included\n",
    "right=x[1:-1,-1]  #Right column-excluding top and bottom\n",
    "\n",
    "border=np.concatenate([top,bottom,left,right],axis=0)\n",
    "print(border)"
   ]
  },
  {
   "cell_type": "markdown",
   "id": "83e6b8d9",
   "metadata": {},
   "source": [
    "**2.3** From `x`, select every other row and every other column."
   ]
  },
  {
   "cell_type": "code",
   "execution_count": 9,
   "id": "3b8d3ec8",
   "metadata": {},
   "outputs": [
    {
     "name": "stdout",
     "output_type": "stream",
     "text": [
      "[[ 1  3  5]\n",
      " [11 13 15]\n",
      " [21 23 25]]\n"
     ]
    }
   ],
   "source": [
    "others=x[::2,::2]\n",
    "print(others)"
   ]
  },
  {
   "cell_type": "markdown",
   "id": "81bec864",
   "metadata": {},
   "source": [
    "**2.4** Given `y = np.arange(10)`, reverse it using slicing only."
   ]
  },
  {
   "cell_type": "code",
   "execution_count": 10,
   "id": "fd22d9d5",
   "metadata": {},
   "outputs": [
    {
     "name": "stdout",
     "output_type": "stream",
     "text": [
      "[9 8 7 6 5 4 3 2 1 0]\n"
     ]
    }
   ],
   "source": [
    "y = np.arange(10)\n",
    "\n",
    "reversed_y=y[::-1]\n",
    "print(reversed_y)"
   ]
  },
  {
   "cell_type": "markdown",
   "id": "65938d3a",
   "metadata": {},
   "source": [
    "**2.5** From `y`, extract elements with **odd indices** (1,3,5,...) using slicing."
   ]
  },
  {
   "cell_type": "code",
   "execution_count": 11,
   "id": "8fd9f5d7",
   "metadata": {},
   "outputs": [
    {
     "name": "stdout",
     "output_type": "stream",
     "text": [
      "[1 3 5 7 9]\n"
     ]
    }
   ],
   "source": [
    "odd_y=y[1::2]\n",
    "\n",
    "print(odd_y)\n"
   ]
  },
  {
   "cell_type": "markdown",
   "id": "e23a7d44",
   "metadata": {},
   "source": [
    "**2.6** Use **fancy indexing** to pick elements at indices `[0, 3, 7]` from `y`."
   ]
  },
  {
   "cell_type": "code",
   "execution_count": 16,
   "id": "13f6d05a",
   "metadata": {},
   "outputs": [
    {
     "name": "stdout",
     "output_type": "stream",
     "text": [
      "[0 3 7]\n"
     ]
    }
   ],
   "source": [
    "fancy_y=y[[0,3,7]]   #Here we use a list of indices [0, 3, 7] to directly pick specific\n",
    "                         #elements from 'y'.\n",
    "print(fancy_y)     "
   ]
  },
  {
   "cell_type": "markdown",
   "id": "b9342a54",
   "metadata": {},
   "source": [
    "**2.7** Given `z = np.array([3, -1, 7, 0, -5, 2])`, replace **negative** values with `0` using boolean indexing."
   ]
  },
  {
   "cell_type": "code",
   "execution_count": 17,
   "id": "0172c7b4",
   "metadata": {},
   "outputs": [
    {
     "name": "stdout",
     "output_type": "stream",
     "text": [
      "[3 0 7 0 0 2]\n"
     ]
    }
   ],
   "source": [
    "z = np.array([3, -1, 7, 0, -5, 2])\n",
    "\n",
    "negatives=z<0  \n",
    "# We create a boolean negatives (z < 0) that identifies all negative values in 'z'.\n",
    "# Using this, we directly replace the negative values with 0.\n",
    "\n",
    "z[negatives]=0\n",
    "print(z)"
   ]
  },
  {
   "cell_type": "markdown",
   "id": "de88b40c",
   "metadata": {},
   "source": [
    "**2.8** Given `M = np.arange(1,17).reshape(4,4)`, set the **diagonal** to `-1` without a loop."
   ]
  },
  {
   "cell_type": "code",
   "execution_count": 37,
   "id": "f6cb0a40",
   "metadata": {},
   "outputs": [
    {
     "name": "stdout",
     "output_type": "stream",
     "text": [
      "None\n"
     ]
    }
   ],
   "source": [
    "M = np.arange(1,17).reshape(4,4)\n",
    "\n",
    "diagonal=np.fill_diagonal(M,-1) #np.fill_diagonal(M, -1) directly replaces all diagonal values with -1.\n",
    "print(diagonal)"
   ]
  },
  {
   "cell_type": "markdown",
   "id": "bf9c8820",
   "metadata": {},
   "source": [
    "## 3) Array Operations & Broadcasting"
   ]
  },
  {
   "cell_type": "markdown",
   "id": "43e5b41d",
   "metadata": {},
   "source": [
    "**3.1** Compute element‑wise addition, subtraction, multiplication, and division of arrays `a=[1,2,3,4]` and `b=[10,20,30,40]`."
   ]
  },
  {
   "cell_type": "code",
   "execution_count": 12,
   "id": "41a76e47",
   "metadata": {},
   "outputs": [
    {
     "name": "stdout",
     "output_type": "stream",
     "text": [
      "Addition:      [11 22 33 44]\n",
      "Subtraction:   [ -9 -18 -27 -36]\n",
      "Multiplication: [ 10  40  90 160]\n",
      "Division:      [0.1 0.1 0.1 0.1]\n"
     ]
    }
   ],
   "source": [
    "a=np.array([1,2,3,4])\n",
    "b=np.array([10,20,30,40])\n",
    "\n",
    "add=a+b\n",
    "sub=a-b\n",
    "mul=a*b\n",
    "div=a/b\n",
    "\n",
    "print(\"Addition:     \", add)\n",
    "print(\"Subtraction:  \", sub)\n",
    "print(\"Multiplication:\", mul)\n",
    "print(\"Division:     \", div)"
   ]
  },
  {
   "cell_type": "markdown",
   "id": "155c0ce2",
   "metadata": {},
   "source": [
    "**3.2** Square all elements of `a` without using a Python loop."
   ]
  },
  {
   "cell_type": "code",
   "execution_count": 62,
   "id": "364ed834",
   "metadata": {},
   "outputs": [
    {
     "name": "stdout",
     "output_type": "stream",
     "text": [
      "[ 1  4  9 16]\n"
     ]
    }
   ],
   "source": [
    "Square=np.square(a)\n",
    "print(Square)"
   ]
  },
  {
   "cell_type": "markdown",
   "id": "7ebba849",
   "metadata": {},
   "source": [
    "**3.3** Let `A = np.ones((3,3))` and `v = np.array([1,2,3])`. Add `v` to each **row** of `A` using broadcasting."
   ]
  },
  {
   "cell_type": "code",
   "execution_count": 70,
   "id": "1e51fd4c",
   "metadata": {},
   "outputs": [
    {
     "name": "stdout",
     "output_type": "stream",
     "text": [
      "[[2. 3. 4.]\n",
      " [2. 3. 4.]\n",
      " [2. 3. 4.]]\n"
     ]
    }
   ],
   "source": [
    "A = np.ones((3,3))              # A =[[1. 1. 1.]\n",
    "                                #     [1. 1. 1.]\n",
    "                                #     [1. 1. 1.]]\n",
    "        \n",
    "v = np.array([1,2,3])           # v=[1 2 3]\n",
    "\n",
    "Add=A+v\n",
    "print(Add)"
   ]
  },
  {
   "cell_type": "markdown",
   "id": "48e5472d",
   "metadata": {},
   "source": [
    "**3.4** Multiply each **column** of `A` by `[1,2,3]` using broadcasting."
   ]
  },
  {
   "cell_type": "code",
   "execution_count": 72,
   "id": "54cafc0b",
   "metadata": {},
   "outputs": [
    {
     "name": "stdout",
     "output_type": "stream",
     "text": [
      "[[1. 2. 3.]\n",
      " [1. 2. 3.]\n",
      " [1. 2. 3.]]\n"
     ]
    }
   ],
   "source": [
    "Multiple=A*[1,2,3]              # A =[[1. 1. 1.]\n",
    "                                #     [1. 1. 1.]\n",
    "                                #     [1. 1. 1.]]\n",
    "        \n",
    "\n",
    "print(Multiple)"
   ]
  },
  {
   "cell_type": "markdown",
   "id": "9b8dd901",
   "metadata": {},
   "source": [
    "**3.5** Normalize array `p = np.array([3.0, 4.0, 0.0, 8.0])` to unit length (divide by its Euclidean norm)."
   ]
  },
  {
   "cell_type": "code",
   "execution_count": 75,
   "id": "208ac878",
   "metadata": {},
   "outputs": [
    {
     "name": "stdout",
     "output_type": "stream",
     "text": [
      "[0.31799936 0.42399915 0.         0.8479983 ]\n"
     ]
    }
   ],
   "source": [
    "p = np.array([3.0, 4.0, 0.0, 8.0])\n",
    "norm = np.linalg.norm(p)     #Compute the Euclidean norm (vector length) \n",
    "\n",
    "p_normalized = p / norm      #Divide each component of the vector by this norm.\n",
    "\n",
    "print(p_normalized)\n"
   ]
  },
  {
   "cell_type": "markdown",
   "id": "5191ca33",
   "metadata": {},
   "source": [
    "**3.6** Compute the pairwise sum of vectors in `X = np.array([[1,2],[3,4],[5,6]])` with `y = np.array([10,20])` via broadcasting (result shape 3×2)."
   ]
  },
  {
   "cell_type": "code",
   "execution_count": 78,
   "id": "ada1fcb3",
   "metadata": {},
   "outputs": [
    {
     "name": "stdout",
     "output_type": "stream",
     "text": [
      "[[11 22]\n",
      " [13 24]\n",
      " [15 26]]\n"
     ]
    }
   ],
   "source": [
    "X = np.array([[1,2],[3,4],[5,6]])\n",
    "y = np.array([10,20])\n",
    "\n",
    "print(X+y)"
   ]
  },
  {
   "cell_type": "markdown",
   "id": "6ee72871",
   "metadata": {},
   "source": [
    "**3.7** Given `B = np.arange(12).reshape(3,4)`, subtract the **column means** from each column (column‑wise centering) using broadcasting."
   ]
  },
  {
   "cell_type": "code",
   "execution_count": 98,
   "id": "0d8af8c2",
   "metadata": {},
   "outputs": [
    {
     "name": "stdout",
     "output_type": "stream",
     "text": [
      "[[-4. -4. -4. -4.]\n",
      " [ 0.  0.  0.  0.]\n",
      " [ 4.  4.  4.  4.]]\n"
     ]
    }
   ],
   "source": [
    "B = np.arange(12).reshape(3,4)\n",
    "col_means = np.mean(B, axis=0)   #Compute the mean of each column (axis=0 means column-wise)\n",
    "B_centered = B - col_means       # Subtract the column means from each column using broadcasting\n",
    "                                 # this operation centers each column around zero\n",
    "print(B_centered)\n"
   ]
  },
  {
   "cell_type": "markdown",
   "id": "1f464fe6",
   "metadata": {},
   "source": [
    "**3.8** Clip array values: given `w = np.array([-3, -1, 0, 2, 9])`, clip to the range `[0, 5]`."
   ]
  },
  {
   "cell_type": "code",
   "execution_count": 103,
   "id": "6f8108c8",
   "metadata": {},
   "outputs": [
    {
     "data": {
      "text/plain": [
       "array([0, 0, 0, 2, 5])"
      ]
     },
     "execution_count": 103,
     "metadata": {},
     "output_type": "execute_result"
    }
   ],
   "source": [
    "w = np.array([-3, -1, 0, 2, 9])  # Values less than 0 are set to 0.\n",
    "                                    #Values greater than 5 are set to 5.\n",
    "                                        #Values within [0, 5] remain unchanged.\n",
    "np.clip(w,0,5)"
   ]
  },
  {
   "cell_type": "markdown",
   "id": "b69d90f8",
   "metadata": {},
   "source": [
    "## 4) Mathematical Functions"
   ]
  },
  {
   "cell_type": "markdown",
   "id": "3223eea7",
   "metadata": {},
   "source": [
    "**4.1** For `q = np.linspace(-2*np.pi, 2*np.pi, 50)`, compute `sin(q)`, `cos(q)`, and `tan(q)` arrays."
   ]
  },
  {
   "cell_type": "code",
   "execution_count": 13,
   "id": "fa4240f9",
   "metadata": {},
   "outputs": [
    {
     "name": "stdout",
     "output_type": "stream",
     "text": [
      "sin(q): [ 2.44929360e-16  2.53654584e-01  4.90717552e-01  6.95682551e-01\n",
      "  8.55142763e-01  9.58667853e-01  9.99486216e-01  9.74927912e-01\n",
      "  8.86599306e-01  7.40277997e-01  5.45534901e-01  3.15108218e-01\n",
      "  6.40702200e-02 -1.91158629e-01 -4.33883739e-01 -6.48228395e-01\n",
      " -8.20172255e-01 -9.38468422e-01 -9.95379113e-01 -9.87181783e-01\n",
      " -9.14412623e-01 -7.81831482e-01 -5.98110530e-01 -3.75267005e-01\n",
      " -1.27877162e-01  1.27877162e-01  3.75267005e-01  5.98110530e-01\n",
      "  7.81831482e-01  9.14412623e-01  9.87181783e-01  9.95379113e-01\n",
      "  9.38468422e-01  8.20172255e-01  6.48228395e-01  4.33883739e-01\n",
      "  1.91158629e-01 -6.40702200e-02 -3.15108218e-01 -5.45534901e-01\n",
      " -7.40277997e-01 -8.86599306e-01 -9.74927912e-01 -9.99486216e-01\n",
      " -9.58667853e-01 -8.55142763e-01 -6.95682551e-01 -4.90717552e-01\n",
      " -2.53654584e-01 -2.44929360e-16]\n",
      "cos(q): [ 1.          0.96729486  0.8713187   0.71834935  0.51839257  0.28452759\n",
      "  0.03205158 -0.22252093 -0.46253829 -0.67230089 -0.8380881  -0.94905575\n",
      " -0.99794539 -0.98155916 -0.90096887 -0.76144596 -0.57211666 -0.34536505\n",
      " -0.09602303  0.1595999   0.40478334  0.6234898   0.80141362  0.92691676\n",
      "  0.99179001  0.99179001  0.92691676  0.80141362  0.6234898   0.40478334\n",
      "  0.1595999  -0.09602303 -0.34536505 -0.57211666 -0.76144596 -0.90096887\n",
      " -0.98155916 -0.99794539 -0.94905575 -0.8380881  -0.67230089 -0.46253829\n",
      " -0.22252093  0.03205158  0.28452759  0.51839257  0.71834935  0.8713187\n",
      "  0.96729486  1.        ]\n",
      "tan(q): [ 2.44929360e-16  2.62230881e-01  5.63189508e-01  9.68445994e-01\n",
      "  1.64960460e+00  3.36933183e+00  3.11836824e+01 -4.38128627e+00\n",
      " -1.91681278e+00 -1.10111114e+00 -6.50927865e-01 -3.32022875e-01\n",
      " -6.42021301e-02  1.94749983e-01  4.81574619e-01  8.51312412e-01\n",
      "  1.43357520e+00  2.71732305e+00  1.03660461e+01 -6.18535359e+00\n",
      " -2.25901742e+00 -1.25396034e+00 -7.46319396e-01 -4.04855131e-01\n",
      " -1.28935722e-01  1.28935722e-01  4.04855131e-01  7.46319396e-01\n",
      "  1.25396034e+00  2.25901742e+00  6.18535359e+00 -1.03660461e+01\n",
      " -2.71732305e+00 -1.43357520e+00 -8.51312412e-01 -4.81574619e-01\n",
      " -1.94749983e-01  6.42021301e-02  3.32022875e-01  6.50927865e-01\n",
      "  1.10111114e+00  1.91681278e+00  4.38128627e+00 -3.11836824e+01\n",
      " -3.36933183e+00 -1.64960460e+00 -9.68445994e-01 -5.63189508e-01\n",
      " -2.62230881e-01 -2.44929360e-16]\n"
     ]
    }
   ],
   "source": [
    "q = np.linspace(-2*np.pi, 2*np.pi, 50)\n",
    "sin_q=np.sin(q)\n",
    "cos_q=np.cos(q)\n",
    "tan_q=np.tan(q)\n",
    "\n",
    "print(\"sin(q):\", sin_q)\n",
    "print(\"cos(q):\", cos_q)\n",
    "print(\"tan(q):\", tan_q)"
   ]
  },
  {
   "cell_type": "markdown",
   "id": "ddf549a4",
   "metadata": {},
   "source": [
    "**4.2** Compute element‑wise `exp`, `log`, and `sqrt` for `r = np.array([1, e, e**2, 10.0])` (use `np.e` where needed)."
   ]
  },
  {
   "cell_type": "code",
   "execution_count": 15,
   "id": "19ec7d24",
   "metadata": {},
   "outputs": [
    {
     "name": "stdout",
     "output_type": "stream",
     "text": [
      "[ 1.          2.71828183  7.3890561  10.        ]\n",
      "exp: [2.71828183e+00 1.51542622e+01 1.61817799e+03 2.20264658e+04]\n",
      "log: [0.         1.         2.         2.30258509]\n",
      "sqrt: [1.         1.64872127 2.71828183 3.16227766]\n"
     ]
    }
   ],
   "source": [
    "r = np.array([1, np.e, np.e**2, 10.0])\n",
    "\n",
    "# Element-wise exponential\n",
    "r_exp = np.exp(r)\n",
    "\n",
    "# Element-wise natural logarithm\n",
    "r_log = np.log(r)\n",
    "\n",
    "# Element-wise square root\n",
    "r_sqrt = np.sqrt(r)\n",
    "\n",
    "print(r)\n",
    "print(\"exp:\", r_exp)\n",
    "print(\"log:\", r_log)\n",
    "print(\"sqrt:\", r_sqrt)\n"
   ]
  },
  {
   "cell_type": "markdown",
   "id": "eddf1492",
   "metadata": {},
   "source": [
    "**4.3** Compute `np.floor`, `np.ceil`, and `np.round` for `s = np.array([1.2, 3.7, -2.3, -4.8])`."
   ]
  },
  {
   "cell_type": "code",
   "execution_count": 126,
   "id": "ff4368a9",
   "metadata": {},
   "outputs": [
    {
     "name": "stdout",
     "output_type": "stream",
     "text": [
      "floor: [ 1.  3. -3. -5.]\n",
      "ceil: [ 2.  4. -2. -4.]\n",
      "round: [ 1.  4. -2. -5.]\n"
     ]
    }
   ],
   "source": [
    "s = np.array([1.2, 3.7, -2.3, -4.8])\n",
    "floor_s=np.floor(s)\n",
    "ceil_s=np.ceil(s)\n",
    "round_s=np.round(s)\n",
    "\n",
    "print(\"floor:\", floor_s)\n",
    "print(\"ceil:\", ceil_s)\n",
    "print(\"round:\", round_s)\n"
   ]
  },
  {
   "cell_type": "markdown",
   "id": "cb85c991",
   "metadata": {},
   "source": [
    "**4.4** Safely compute `log1p(x)` for `x = np.array([0, 1e-10, 1e-5, 0.1])`. Why is `log1p` preferred here? (Answer in a comment)"
   ]
  },
  {
   "cell_type": "code",
   "execution_count": 128,
   "id": "0a4fd4bc",
   "metadata": {},
   "outputs": [
    {
     "name": "stdout",
     "output_type": "stream",
     "text": [
      "[0.00000000e+00 1.00000000e-10 9.99995000e-06 9.53101798e-02]\n"
     ]
    }
   ],
   "source": [
    "x = np.array([0, 1e-10, 1e-5, 0.1])       \n",
    "\n",
    "# np.log1p(x) computes log(1 + x) in a numerically stable way.\n",
    "# For very small x, directly computing np.log(1 + x) can lose precision due to floating-point rounding errors.\n",
    "# Using log1p ensures accurate results even for tiny x values.\n",
    "log_values = np.log1p(x)\n",
    "\n",
    "print(log_values)"
   ]
  },
  {
   "cell_type": "markdown",
   "id": "46aaf0f8",
   "metadata": {},
   "source": [
    "**4.5** Compute the sigmoid function `σ(x) = 1 / (1 + exp(-x))` for `x = np.linspace(-8, 8, 9)`."
   ]
  },
  {
   "cell_type": "code",
   "execution_count": 16,
   "id": "5322d4f5",
   "metadata": {},
   "outputs": [
    {
     "name": "stdout",
     "output_type": "stream",
     "text": [
      "[3.35350130e-04 2.47262316e-03 1.79862100e-02 1.19202922e-01\n",
      " 5.00000000e-01 8.80797078e-01 9.82013790e-01 9.97527377e-01\n",
      " 9.99664650e-01]\n"
     ]
    }
   ],
   "source": [
    "x = np.linspace(-8, 8, 9)\n",
    "\n",
    "sigmoid = 1 / (1 + np.exp(-x))\n",
    "print(sigmoid)\n"
   ]
  },
  {
   "cell_type": "markdown",
   "id": "b6f35dfc",
   "metadata": {},
   "source": [
    "**4.6** Standardize `t` (z‑score): given `t = np.array([10, 12, 9, 13, 11, 8])`, transform to mean 0 and std 1."
   ]
  },
  {
   "cell_type": "code",
   "execution_count": 18,
   "id": "9b1aa6cd",
   "metadata": {},
   "outputs": [
    {
     "name": "stdout",
     "output_type": "stream",
     "text": [
      "Standardized t (z-score): [-0.29277002  0.87831007 -0.87831007  1.46385011  0.29277002 -1.46385011]\n"
     ]
    }
   ],
   "source": [
    "import numpy as np\n",
    "\n",
    "t = np.array([10, 12, 9, 13, 11, 8])\n",
    "\n",
    "# Definition: z-score = (x - mean) / std\n",
    "z = (t - t.mean()) / t.std()\n",
    "\n",
    "print(\"Standardized t (z-score):\", z)\n"
   ]
  },
  {
   "cell_type": "markdown",
   "id": "a0212e74",
   "metadata": {},
   "source": [
    "## 5) Aggregations & Descriptive Stats"
   ]
  },
  {
   "cell_type": "markdown",
   "id": "e68effe5",
   "metadata": {},
   "source": [
    "**5.1** Given `u = np.array([5, 5, 9, 1, 1, 9, 9])`, compute: mean, median, variance, std, min, max."
   ]
  },
  {
   "cell_type": "code",
   "execution_count": 147,
   "id": "4e07c259",
   "metadata": {},
   "outputs": [
    {
     "name": "stdout",
     "output_type": "stream",
     "text": [
      "mean is: 5.571428571428571 median is: 5.0 variance is: 11.10204081632653 standard deviation is: 3.3319725113401715 minimum is: 1 maximum is: 9\n"
     ]
    }
   ],
   "source": [
    "u = np.array([5, 5, 9, 1, 1, 9, 9])\n",
    "mean_u=np.mean(u)\n",
    "median_u=np.median(u)\n",
    "var_u=np.var(u)\n",
    "std_u=np.std(u)\n",
    "min_u=np.min(u)\n",
    "max_u=np.max(u)\n",
    "\n",
    "print('mean is:', mean_u, \n",
    "      'median is:', median_u, \n",
    "      'variance is:', var_u, \n",
    "      'standard deviation is:', std_u, \n",
    "      'minimum is:', min_u, \n",
    "      'maximum is:', max_u)\n"
   ]
  },
  {
   "cell_type": "markdown",
   "id": "99da38d7",
   "metadata": {},
   "source": [
    "**5.2** Compute `argmin` and `argmax` for `u`. What values do they point to? (Print index & value)"
   ]
  },
  {
   "cell_type": "code",
   "execution_count": 148,
   "id": "05e434a8",
   "metadata": {},
   "outputs": [
    {
     "name": "stdout",
     "output_type": "stream",
     "text": [
      "argmin index: 3 value: 1\n",
      "argmax index: 2 value: 9\n"
     ]
    }
   ],
   "source": [
    "u = np.array([5, 5, 9, 1, 1, 9, 9])\n",
    "\n",
    "# Find indices of min and max\n",
    "argmin_u = np.argmin(u)\n",
    "argmax_u = np.argmax(u)\n",
    "\n",
    "print(\"argmin index:\", argmin_u, \"value:\", u[argmin_u])\n",
    "print(\"argmax index:\", argmax_u, \"value:\", u[argmax_u])\n"
   ]
  },
  {
   "cell_type": "markdown",
   "id": "16c6a069",
   "metadata": {},
   "source": [
    "**5.3** For `V = np.arange(12).reshape(3,4)`, compute **row sums** and **column means**."
   ]
  },
  {
   "cell_type": "code",
   "execution_count": 149,
   "id": "ce7add7e",
   "metadata": {},
   "outputs": [
    {
     "name": "stdout",
     "output_type": "stream",
     "text": [
      "Matrix V:\n",
      " [[ 0  1  2  3]\n",
      " [ 4  5  6  7]\n",
      " [ 8  9 10 11]]\n",
      "Row sums: [ 6 22 38]\n",
      "Column means: [4. 5. 6. 7.]\n"
     ]
    }
   ],
   "source": [
    "V = np.arange(12).reshape(3,4)\n",
    "\n",
    "# Row sums (sum along axis=1)\n",
    "row_sums = np.sum(V, axis=1)\n",
    "\n",
    "# Column means (mean along axis=0)\n",
    "col_means = np.mean(V, axis=0)\n",
    "\n",
    "print(\"Matrix V:\\n\", V)\n",
    "print(\"Row sums:\", row_sums)\n",
    "print(\"Column means:\", col_means)"
   ]
  },
  {
   "cell_type": "markdown",
   "id": "9ba1c007",
   "metadata": {},
   "source": [
    "**5.4** For `V`, compute the cumulative sum along axis 1 and the cumulative product along axis 0."
   ]
  },
  {
   "cell_type": "code",
   "execution_count": 150,
   "id": "8bfaa9be",
   "metadata": {},
   "outputs": [
    {
     "name": "stdout",
     "output_type": "stream",
     "text": [
      "Matrix V:\n",
      " [[ 0  1  2  3]\n",
      " [ 4  5  6  7]\n",
      " [ 8  9 10 11]]\n",
      "Cumulative sum along axis 1:\n",
      " [[ 0  1  3  6]\n",
      " [ 4  9 15 22]\n",
      " [ 8 17 27 38]]\n",
      "Cumulative product along axis 0:\n",
      " [[  0   1   2   3]\n",
      " [  0   5  12  21]\n",
      " [  0  45 120 231]]\n"
     ]
    }
   ],
   "source": [
    "V = np.arange(12).reshape(3,4)\n",
    "\n",
    "# Cumulative sum along axis=1 (row-wise cumulative sum)\n",
    "cumsum_axis1 = np.cumsum(V, axis=1)\n",
    "\n",
    "# Cumulative product along axis=0 (column-wise cumulative product)\n",
    "cumprod_axis0 = np.cumprod(V, axis=0)\n",
    "\n",
    "print(\"Matrix V:\\n\", V)\n",
    "print(\"Cumulative sum along axis 1:\\n\", cumsum_axis1)\n",
    "print(\"Cumulative product along axis 0:\\n\", cumprod_axis0)\n"
   ]
  },
  {
   "cell_type": "markdown",
   "id": "7a3d10b2",
   "metadata": {},
   "source": [
    "**5.5** For `u`, return the **unique** values and their **counts** (hint: `np.unique(..., return_counts=True)`)."
   ]
  },
  {
   "cell_type": "code",
   "execution_count": 158,
   "id": "fbe8cea0",
   "metadata": {},
   "outputs": [
    {
     "name": "stdout",
     "output_type": "stream",
     "text": [
      "Unique values: [1 5 9]\n",
      "Counts: [2 2 3]\n"
     ]
    }
   ],
   "source": [
    "u = np.array([5, 5, 9, 1, 1, 9, 9])\n",
    "\n",
    "# Find unique values and their counts\n",
    "unique_vals, counts = np.unique(u, return_counts=True)\n",
    "\n",
    "print(\"Unique values:\", unique_vals)\n",
    "print(\"Counts:\", counts)\n"
   ]
  },
  {
   "cell_type": "markdown",
   "id": "55ab12a6",
   "metadata": {},
   "source": [
    "**5.6** Compute the **50th percentile (median)** and **90th percentile** of `u` using `np.percentile`."
   ]
  },
  {
   "cell_type": "code",
   "execution_count": 159,
   "id": "cbac181f",
   "metadata": {},
   "outputs": [
    {
     "name": "stdout",
     "output_type": "stream",
     "text": [
      "50th percentile (median): 5.0\n",
      "90th percentile: 9.0\n"
     ]
    }
   ],
   "source": [
    "u = np.array([5, 5, 9, 1, 1, 9, 9])\n",
    "\n",
    "# 50th percentile (median) və 90th percentile\n",
    "p50 = np.percentile(u, 50)   # median\n",
    "p90 = np.percentile(u, 90)\n",
    "\n",
    "print(\"50th percentile (median):\", p50)\n",
    "print(\"90th percentile:\", p90)\n"
   ]
  },
  {
   "cell_type": "markdown",
   "id": "31f3a1ab",
   "metadata": {},
   "source": [
    "## 6) Random Numbers & Simulations"
   ]
  },
  {
   "cell_type": "markdown",
   "id": "aa921090",
   "metadata": {},
   "source": [
    "**6.1** Set a random seed (e.g., 123). Generate 10 random numbers from the uniform distribution [0,1)."
   ]
  },
  {
   "cell_type": "code",
   "execution_count": 160,
   "id": "fe9c48ad",
   "metadata": {},
   "outputs": [
    {
     "name": "stdout",
     "output_type": "stream",
     "text": [
      "[0.69646919 0.28613933 0.22685145 0.55131477 0.71946897 0.42310646\n",
      " 0.9807642  0.68482974 0.4809319  0.39211752]\n"
     ]
    }
   ],
   "source": [
    "# Set random seed\n",
    "np.random.seed(123)\n",
    "\n",
    "# Generate 10 random numbers from uniform [0, 1)\n",
    "rand_nums = np.random.rand(10)\n",
    "\n",
    "print(rand_nums)\n"
   ]
  },
  {
   "cell_type": "markdown",
   "id": "3941eb6b",
   "metadata": {},
   "source": [
    "**6.2** Generate a 3×3 matrix of random integers between 1 and 100 (inclusive)."
   ]
  },
  {
   "cell_type": "code",
   "execution_count": 164,
   "id": "0619d7d9",
   "metadata": {},
   "outputs": [
    {
     "name": "stdout",
     "output_type": "stream",
     "text": [
      "[[28 35 98]\n",
      " [77 41  4]\n",
      " [70 65 76]]\n"
     ]
    }
   ],
   "source": [
    "# Generate 3x3 matrix of random integers between 1 and 100 (inclusive)\n",
    "matrix = np.random.randint(1, 101, size=(3,3))\n",
    "\n",
    "print(matrix)\n"
   ]
  },
  {
   "cell_type": "markdown",
   "id": "6e0e7536",
   "metadata": {},
   "source": [
    "**6.3** Draw 1,000 samples from a standard normal distribution and compute sample mean and std. Compare to theoretical values."
   ]
  },
  {
   "cell_type": "code",
   "execution_count": 168,
   "id": "788a0a28",
   "metadata": {},
   "outputs": [
    {
     "name": "stdout",
     "output_type": "stream",
     "text": [
      "Sample mean: 0.06463548843744757\n",
      "Sample std: 0.9831741829559825\n",
      "Theoretical mean: 0, Theoretical std: 1\n"
     ]
    }
   ],
   "source": [
    "# 1,000 samples from standard normal distribution\n",
    "samples = np.random.randn(1000)\n",
    "\n",
    "# Sample mean and standard deviation\n",
    "sample_mean = np.mean(samples)\n",
    "sample_std = np.std(samples)\n",
    "\n",
    "print(\"Sample mean:\", sample_mean)\n",
    "print(\"Sample std:\", sample_std)\n",
    "print(\"Theoretical mean: 0, Theoretical std: 1\")\n",
    "\n",
    "#Sample mean and std are close to theoretical values (0 and 1) but not exact due to randomness.\n",
    "#Increasing the number of samples (e.g., 10,000) will make the sample statistics closer to the theoretical values."
   ]
  },
  {
   "cell_type": "markdown",
   "id": "2776b9d5",
   "metadata": {},
   "source": [
    "**6.4** Simulate 1,000 fair coin flips (use 0/1). Estimate the probability of heads."
   ]
  },
  {
   "cell_type": "code",
   "execution_count": 170,
   "id": "00df84c1",
   "metadata": {},
   "outputs": [
    {
     "name": "stdout",
     "output_type": "stream",
     "text": [
      "Estimated probability of heads: 0.52\n"
     ]
    }
   ],
   "source": [
    "# Set random seed\n",
    "np.random.seed(123)\n",
    "\n",
    "# Simulate 1,000 fair coin flips (0 = tails, 1 = heads)\n",
    "flips = np.random.randint(0, 2, size=1000)\n",
    "\n",
    "# Estimate probability of heads\n",
    "prob_heads = np.mean(flips)  # mean = fraction of 1s (heads)\n",
    "\n",
    "print(\"Estimated probability of heads:\", prob_heads)\n"
   ]
  },
  {
   "cell_type": "markdown",
   "id": "df90da67",
   "metadata": {},
   "source": [
    "**6.5** Simulate rolling two fair dice 10,000 times. Estimate the probability that the sum equals 7."
   ]
  },
  {
   "cell_type": "code",
   "execution_count": 173,
   "id": "104f3c26",
   "metadata": {},
   "outputs": [
    {
     "name": "stdout",
     "output_type": "stream",
     "text": [
      "Estimated probability that sum = 7: 0.1677\n"
     ]
    }
   ],
   "source": [
    "# Set random seed for reproducibility\n",
    "np.random.seed(123)\n",
    "\n",
    "# Simulate 10,000 rolls for two dice\n",
    "dice1 = np.random.randint(1, 7, size=10000)\n",
    "dice2 = np.random.randint(1, 7, size=10000)\n",
    "\n",
    "# Sum of the two dice\n",
    "sums = dice1 + dice2\n",
    "\n",
    "# Estimate probability that sum equals 7\n",
    "prob_sum_7 = np.mean(sums == 7)  # fraction of times sum is 7\n",
    "\n",
    "print(\"Estimated probability that sum = 7:\", prob_sum_7)\n"
   ]
  },
  {
   "cell_type": "markdown",
   "id": "0f7e57c0",
   "metadata": {},
   "source": [
    "**6.6** Draw 500 samples from a binomial distribution (n=20, p=0.4). Compute mean and variance; compare to theory."
   ]
  },
  {
   "cell_type": "code",
   "execution_count": 175,
   "id": "210ffd49",
   "metadata": {},
   "outputs": [
    {
     "name": "stdout",
     "output_type": "stream",
     "text": [
      "Sample mean: 7.944\n",
      "Sample variance: 4.9328639999999995\n",
      "Theoretical mean: 8.0\n",
      "Theoretical variance: 4.8\n"
     ]
    }
   ],
   "source": [
    "# Set random seed \n",
    "np.random.seed(123)\n",
    "\n",
    "# Draw 500 samples from Binomial(n=20, p=0.4)\n",
    "n, p = 20, 0.4\n",
    "samples = np.random.binomial(n, p, size=500)\n",
    "\n",
    "# Compute sample mean and variance\n",
    "sample_mean = np.mean(samples)\n",
    "sample_var = np.var(samples)\n",
    "\n",
    "# Theoretical mean and variance\n",
    "theoretical_mean = n * p\n",
    "theoretical_var = n * p * (1 - p)\n",
    "\n",
    "print(\"Sample mean:\", sample_mean)\n",
    "print(\"Sample variance:\", sample_var)\n",
    "print(\"Theoretical mean:\", theoretical_mean)\n",
    "print(\"Theoretical variance:\", theoretical_var)\n"
   ]
  },
  {
   "cell_type": "markdown",
   "id": "35a19a14",
   "metadata": {},
   "source": [
    "**6.7** Use `np.random.multivariate_normal` to draw 1,000 2D samples with mean `[0,0]` and covariance `[[1,0.5],[0.5,1]]`. Compute the sample covariance matrix."
   ]
  },
  {
   "cell_type": "code",
   "execution_count": 176,
   "id": "9ac3b32d",
   "metadata": {},
   "outputs": [
    {
     "name": "stdout",
     "output_type": "stream",
     "text": [
      "Sample covariance matrix:\n",
      " [[0.98010969 0.50207627]\n",
      " [0.50207627 0.96368557]]\n"
     ]
    }
   ],
   "source": [
    "# Set random seed  \n",
    "np.random.seed(123)\n",
    "\n",
    "# Define mean and covariance\n",
    "mean = [0, 0]\n",
    "cov = [[1, 0.5],\n",
    "       [0.5, 1]]\n",
    "\n",
    "# Draw 1,000 2D samples\n",
    "samples = np.random.multivariate_normal(mean, cov, size=1000)\n",
    "\n",
    "# Compute sample covariance matrix\n",
    "sample_cov = np.cov(samples, rowvar=False)  # rowvar=False: each column is a variable\n",
    "\n",
    "print(\"Sample covariance matrix:\\n\", sample_cov)\n"
   ]
  },
  {
   "cell_type": "markdown",
   "id": "bdeed0ed",
   "metadata": {},
   "source": [
    "**6.8** Monte Carlo: Estimate π by randomly sampling 100,000 points in the unit square and counting how many fall inside the unit quarter‑circle."
   ]
  },
  {
   "cell_type": "code",
   "execution_count": 177,
   "id": "62e6e4ec",
   "metadata": {},
   "outputs": [
    {
     "name": "stdout",
     "output_type": "stream",
     "text": [
      "Estimated π: 3.13496\n"
     ]
    }
   ],
   "source": [
    "# Set random seed for reproducibility\n",
    "np.random.seed(123)\n",
    "\n",
    "# Number of random points\n",
    "N = 100000\n",
    "\n",
    "# Sample x and y coordinates uniformly in [0,1)\n",
    "x = np.random.rand(N)\n",
    "y = np.random.rand(N)\n",
    "\n",
    "# Count points inside the quarter-circle (radius=1)\n",
    "inside_circle = (x**2 + y**2) <= 1\n",
    "num_inside = np.sum(inside_circle)\n",
    "\n",
    "# Estimate π\n",
    "pi_estimate = 4 * num_inside / N\n",
    "\n",
    "print(\"Estimated π:\", pi_estimate)\n"
   ]
  },
  {
   "cell_type": "markdown",
   "id": "fb61b7b7",
   "metadata": {},
   "source": [
    "## 7) Linear Algebra"
   ]
  },
  {
   "cell_type": "markdown",
   "id": "a3797057",
   "metadata": {},
   "source": [
    "**7.1** Compute the dot product of `a = [1,2,3]` and `b = [4,5,6]`."
   ]
  },
  {
   "cell_type": "code",
   "execution_count": 178,
   "id": "218aac3b",
   "metadata": {},
   "outputs": [
    {
     "name": "stdout",
     "output_type": "stream",
     "text": [
      "Dot product: 32\n"
     ]
    }
   ],
   "source": [
    "a = np.array([1, 2, 3])\n",
    "b = np.array([4, 5, 6])\n",
    "\n",
    "#Element-wise multiply: [1*4, 2*5, 3*6] = [4, 10, 18]\n",
    "#Sum: 4 + 10 + 18 = 32 --> dot product.\n",
    "dot_product = np.dot(a, b)\n",
    "\n",
    "print(\"Dot product:\", dot_product)\n"
   ]
  },
  {
   "cell_type": "markdown",
   "id": "10d5de7e",
   "metadata": {},
   "source": [
    "**7.2** Given `A = [[2,1],[1,2]]`, compute determinant, inverse, and verify `A @ A_inv ≈ I`."
   ]
  },
  {
   "cell_type": "code",
   "execution_count": 180,
   "id": "9b54d1c7",
   "metadata": {},
   "outputs": [
    {
     "name": "stdout",
     "output_type": "stream",
     "text": [
      "Determinant of A: 2.9999999999999996\n",
      "Inverse of A:\n",
      " [[ 0.66666667 -0.33333333]\n",
      " [-0.33333333  0.66666667]]\n",
      "A @ A_inv:\n",
      " [[1. 0.]\n",
      " [0. 1.]]\n"
     ]
    }
   ],
   "source": [
    "# Define matrix\n",
    "A = np.array([[2, 1],\n",
    "              [1, 2]])\n",
    "\n",
    "# Compute determinant\n",
    "det_A = np.linalg.det(A)\n",
    "\n",
    "# Compute inverse\n",
    "A_inv = np.linalg.inv(A)\n",
    "\n",
    "# Verify A @ A_inv ≈ Identity matrix\n",
    "identity_check = A @ A_inv\n",
    "\n",
    "print(\"Determinant of A:\", det_A)\n",
    "print(\"Inverse of A:\\n\", A_inv)\n",
    "print(\"A @ A_inv:\\n\", identity_check)\n"
   ]
  },
  {
   "cell_type": "markdown",
   "id": "e79cb512",
   "metadata": {},
   "source": [
    "**7.3** For `A` above, compute eigenvalues and eigenvectors, and verify `A @ v ≈ λ v`."
   ]
  },
  {
   "cell_type": "code",
   "execution_count": 181,
   "id": "8ad58ad5",
   "metadata": {},
   "outputs": [
    {
     "name": "stdout",
     "output_type": "stream",
     "text": [
      "Eigenvalues: [3. 1.]\n",
      "Eigenvectors:\n",
      " [[ 0.70710678 -0.70710678]\n",
      " [ 0.70710678  0.70710678]]\n",
      "\n",
      "Check for eigenvalue 3.0:\n",
      "A @ v: [2.12132034 2.12132034]\n",
      "λ v  : [2.12132034 2.12132034]\n",
      "Difference: [0. 0.]\n",
      "\n",
      "Check for eigenvalue 1.0:\n",
      "A @ v: [-0.70710678  0.70710678]\n",
      "λ v  : [-0.70710678  0.70710678]\n",
      "Difference: [0. 0.]\n"
     ]
    }
   ],
   "source": [
    "# Define matrix\n",
    "A = np.array([[2, 1],\n",
    "              [1, 2]])\n",
    "\n",
    "# Compute eigenvalues and eigenvectors\n",
    "eigvals, eigvecs = np.linalg.eig(A)\n",
    "\n",
    "print(\"Eigenvalues:\", eigvals)\n",
    "print(\"Eigenvectors:\\n\", eigvecs)\n",
    "\n",
    "# Verify A @ v ≈ λ v for each eigenvector\n",
    "for i in range(len(eigvals)):\n",
    "    lhs = A @ eigvecs[:, i]   # left-hand side\n",
    "    rhs = eigvals[i] * eigvecs[:, i]  # right-hand side\n",
    "    print(f\"\\nCheck for eigenvalue {eigvals[i]}:\")\n",
    "    print(\"A @ v:\", lhs)\n",
    "    print(\"λ v  :\", rhs)\n",
    "    print(\"Difference:\", lhs - rhs)\n"
   ]
  },
  {
   "cell_type": "markdown",
   "id": "ca461021",
   "metadata": {},
   "source": [
    "**7.4** Solve the linear system `3x + 2y = 7` and `2x + 5y = 8`."
   ]
  },
  {
   "cell_type": "code",
   "execution_count": 182,
   "id": "e40036f4",
   "metadata": {},
   "outputs": [
    {
     "name": "stdout",
     "output_type": "stream",
     "text": [
      "Solution [x, y]: [1.72727273 0.90909091]\n"
     ]
    }
   ],
   "source": [
    "# Coefficient matrix\n",
    "A = np.array([[3, 2],\n",
    "              [2, 5]])\n",
    "\n",
    "# Right-hand side vector  \n",
    "b = np.array([7, 8])\n",
    "\n",
    "# Solve the system.Here using Cramer’s rule in background\n",
    "solution = np.linalg.solve(A, b)\n",
    "\n",
    "print(\"Solution [x, y]:\", solution)\n"
   ]
  },
  {
   "cell_type": "markdown",
   "id": "6572eb3c",
   "metadata": {},
   "source": [
    "**7.5** Create a random 4×4 matrix and compute its **rank**."
   ]
  },
  {
   "cell_type": "code",
   "execution_count": 19,
   "id": "2bb4c7f5",
   "metadata": {},
   "outputs": [
    {
     "name": "stdout",
     "output_type": "stream",
     "text": [
      "Random 4x4 matrix:\n",
      " [[0.69646919 0.28613933 0.22685145 0.55131477]\n",
      " [0.71946897 0.42310646 0.9807642  0.68482974]\n",
      " [0.4809319  0.39211752 0.34317802 0.72904971]\n",
      " [0.43857224 0.0596779  0.39804426 0.73799541]]\n",
      "Rank of the matrix: 4\n"
     ]
    }
   ],
   "source": [
    "# Set random seed for reproducibility\n",
    "np.random.seed(123)\n",
    "\n",
    "# Create a random 4x4 matrix\n",
    "A = np.random.rand(4, 4)\n",
    "\n",
    "# Compute its rank\n",
    "rank_A = np.linalg.matrix_rank(A)\n",
    "\n",
    "print(\"Random 4x4 matrix:\\n\", A)\n",
    "print(\"Rank of the matrix:\", rank_A)\n"
   ]
  },
  {
   "cell_type": "markdown",
   "id": "bf3914cf",
   "metadata": {},
   "source": [
    "**7.6** Perform QR decomposition of a random 4×3 matrix and verify `Q @ R ≈ A`."
   ]
  },
  {
   "cell_type": "code",
   "execution_count": 185,
   "id": "060c4d77",
   "metadata": {},
   "outputs": [
    {
     "name": "stdout",
     "output_type": "stream",
     "text": [
      "Original matrix A:\n",
      " [[0.69646919 0.28613933 0.22685145]\n",
      " [0.55131477 0.71946897 0.42310646]\n",
      " [0.9807642  0.68482974 0.4809319 ]\n",
      " [0.39211752 0.34317802 0.72904971]]\n",
      "\n",
      "Q matrix:\n",
      " [[-0.5046518   0.57730224 -0.086298  ]\n",
      " [-0.39947494 -0.79903521 -0.24830641]\n",
      " [-0.71064797  0.09473082 -0.17824436]\n",
      " [-0.28412285 -0.1388918   0.9482223 ]]\n",
      "\n",
      "R matrix:\n",
      " [[-1.3800985  -1.01598814 -0.83241438]\n",
      " [ 0.         -0.39248229 -0.26281506]\n",
      " [ 0.          0.          0.48094092]]\n",
      "\n",
      "Reconstructed A (Q @ R):\n",
      " [[0.69646919 0.28613933 0.22685145]\n",
      " [0.55131477 0.71946897 0.42310646]\n",
      " [0.9807642  0.68482974 0.4809319 ]\n",
      " [0.39211752 0.34317802 0.72904971]]\n",
      "\n",
      "Difference A - Q@R:\n",
      " [[2.22044605e-16 3.88578059e-16 4.16333634e-16]\n",
      " [0.00000000e+00 0.00000000e+00 1.66533454e-16]\n",
      " [1.11022302e-16 1.11022302e-16 1.11022302e-16]\n",
      " [0.00000000e+00 0.00000000e+00 1.11022302e-16]]\n"
     ]
    }
   ],
   "source": [
    "# Set random seed \n",
    "np.random.seed(123)\n",
    "\n",
    "# Create a random 4x3 matrix\n",
    "A = np.random.rand(4, 3)\n",
    "\n",
    "# Perform QR decomposition\n",
    "Q, R = np.linalg.qr(A)\n",
    "\n",
    "# Verify that Q @ R ≈ A\n",
    "reconstructed = Q @ R\n",
    "\n",
    "print(\"Original matrix A:\\n\", A)\n",
    "print(\"\\nQ matrix:\\n\", Q)\n",
    "print(\"\\nR matrix:\\n\", R)\n",
    "print(\"\\nReconstructed A (Q @ R):\\n\", reconstructed)\n",
    "print(\"\\nDifference A - Q@R:\\n\", A - reconstructed)\n"
   ]
  },
  {
   "cell_type": "markdown",
   "id": "c4ccc561",
   "metadata": {},
   "source": [
    "## 8) Reshaping, Stacking & Splitting"
   ]
  },
  {
   "cell_type": "markdown",
   "id": "4d2fd58d",
   "metadata": {},
   "source": [
    "**8.1** Create `a = np.arange(24)` and reshape to (4,6)."
   ]
  },
  {
   "cell_type": "code",
   "execution_count": 187,
   "id": "2a504d64",
   "metadata": {},
   "outputs": [
    {
     "name": "stdout",
     "output_type": "stream",
     "text": [
      "Original array:\n",
      " [ 0  1  2  3  4  5  6  7  8  9 10 11 12 13 14 15 16 17 18 19 20 21 22 23]\n",
      "\n",
      "Reshaped array (4x6):\n",
      " [[ 0  1  2  3  4  5]\n",
      " [ 6  7  8  9 10 11]\n",
      " [12 13 14 15 16 17]\n",
      " [18 19 20 21 22 23]]\n"
     ]
    }
   ],
   "source": [
    "# Create array from 0 to 23\n",
    "a = np.arange(24)\n",
    "\n",
    "# Reshape to 4x6\n",
    "a_reshaped = a.reshape(4, 6)\n",
    "\n",
    "print(\"Original array:\\n\", a)\n",
    "print(\"\\nReshaped array (4x6):\\n\", a_reshaped)\n"
   ]
  },
  {
   "cell_type": "markdown",
   "id": "fa23dbe1",
   "metadata": {},
   "source": [
    "**8.2** From the (4,6) array, extract a (2,3) block from the center."
   ]
  },
  {
   "cell_type": "code",
   "execution_count": 188,
   "id": "af5e0cfd",
   "metadata": {},
   "outputs": [
    {
     "name": "stdout",
     "output_type": "stream",
     "text": [
      "Original array (4x6):\n",
      " [[ 0  1  2  3  4  5]\n",
      " [ 6  7  8  9 10 11]\n",
      " [12 13 14 15 16 17]\n",
      " [18 19 20 21 22 23]]\n",
      "\n",
      "Center 2x3 block:\n",
      " [[ 7  8  9]\n",
      " [13 14 15]]\n"
     ]
    }
   ],
   "source": [
    "# Original 4x6 array\n",
    "a = np.arange(24).reshape(4,6)\n",
    "\n",
    "# Extract the center 2x3 block\n",
    "center_block = a[1:3, 1:4]  # rows 1-2, columns 1-3\n",
    "\n",
    "print(\"Original array (4x6):\\n\", a)\n",
    "print(\"\\nCenter 2x3 block:\\n\", center_block)\n"
   ]
  },
  {
   "cell_type": "markdown",
   "id": "7b24e852",
   "metadata": {},
   "source": [
    "**8.3** Vertically stack two arrays of shape (2,3) to obtain (4,3); then horizontally stack to obtain (2,6)."
   ]
  },
  {
   "cell_type": "code",
   "execution_count": 191,
   "id": "e1650681",
   "metadata": {},
   "outputs": [
    {
     "name": "stdout",
     "output_type": "stream",
     "text": [
      "Vertically stacked (4x3):\n",
      " [[ 1  2  3]\n",
      " [ 4  5  6]\n",
      " [ 7  8  9]\n",
      " [10 11 12]]\n",
      "\n",
      "Horizontally stacked (2x6):\n",
      " [[ 1  2  3  7  8  9]\n",
      " [ 4  5  6 10 11 12]]\n"
     ]
    }
   ],
   "source": [
    "# Create two 2x3 arrays\n",
    "A = np.array([[1, 2, 3],\n",
    "              [4, 5, 6]])\n",
    "B = np.array([[7, 8, 9],\n",
    "              [10, 11, 12]])\n",
    "\n",
    "# Vertically stack: result shape (4,3)\n",
    "V_stack = np.vstack((A, B))\n",
    "print(\"Vertically stacked (4x3):\\n\", V_stack)\n",
    "\n",
    "# Horizontally stack: result shape (2,6)\n",
    "H_stack = np.hstack((A, B))\n",
    "print(\"\\nHorizontally stacked (2x6):\\n\", H_stack)\n"
   ]
  },
  {
   "cell_type": "markdown",
   "id": "efff14e2",
   "metadata": {},
   "source": [
    "**8.4** Split an array of length 20 into 4 equal parts; then split into parts of lengths `[3,5,12]`."
   ]
  },
  {
   "cell_type": "code",
   "execution_count": 23,
   "id": "d013867c",
   "metadata": {},
   "outputs": [
    {
     "data": {
      "text/plain": [
       "[array([0, 1, 2]),\n",
       " array([3, 4, 5, 6, 7]),\n",
       " array([ 8,  9, 10, 11, 12, 13, 14, 15, 16, 17, 18, 19])]"
      ]
     },
     "execution_count": 23,
     "metadata": {},
     "output_type": "execute_result"
    }
   ],
   "source": [
    "import numpy as np\n",
    "\n",
    "arr = np.arange(20)\n",
    "\n",
    "parts_equal = np.array_split(arr, 4)\n",
    "parts_equal\n",
    "\n",
    "#np.array_split:\n",
    "#Works even if the array length isn’t exactly divisible by the number of parts.\n",
    "#Handles unequal lengths cleanly without extra calculations.\n",
    "\n",
    "lengths = [3, 5, 12]\n",
    "parts_custom = np.array_split(arr, np.cumsum(lengths)[:-1])\n",
    "parts_custom\n"
   ]
  },
  {
   "cell_type": "markdown",
   "id": "488e1b79",
   "metadata": {},
   "source": [
    "**8.5** Use `np.concatenate` to combine three arrays along axis 0 and along axis 1 (where shapes allow)."
   ]
  },
  {
   "cell_type": "code",
   "execution_count": 25,
   "id": "c30f34a8",
   "metadata": {},
   "outputs": [
    {
     "name": "stdout",
     "output_type": "stream",
     "text": [
      "Concatenate along axis 0:\n",
      " [[ 1  2]\n",
      " [ 3  4]\n",
      " [ 5  6]\n",
      " [ 7  8]\n",
      " [ 9 10]\n",
      " [11 12]]\n",
      "\n",
      "Concatenate along axis 1:\n",
      " [[ 1  2  5  6  9 10]\n",
      " [ 3  4  7  8 11 12]]\n"
     ]
    }
   ],
   "source": [
    "# Create three arrays\n",
    "A = np.array([[1, 2],\n",
    "              [3, 4]])\n",
    "B = np.array([[5, 6],\n",
    "              [7, 8]])\n",
    "C = np.array([[9, 10],\n",
    "              [11, 12]])\n",
    "\n",
    "# Concatenate along axis 0 (rows)\n",
    "concat_axis0 = np.concatenate((A, B, C), axis=0)\n",
    "print(\"Concatenate along axis 0:\\n\", concat_axis0)\n",
    "\n",
    "# Concatenate along axis 1 (columns)\n",
    "concat_axis1 = np.concatenate((A, B, C), axis=1)\n",
    "print(\"\\nConcatenate along axis 1:\\n\", concat_axis1)\n"
   ]
  },
  {
   "cell_type": "markdown",
   "id": "2bc793a6",
   "metadata": {},
   "source": [
    "## 9) Real‑World Mini Case Studies"
   ]
  },
  {
   "cell_type": "markdown",
   "id": "4111fc74",
   "metadata": {},
   "source": [
    "**9.1 Finance**: Prices of a stock for 10 days are `p = [100, 102, 101, 103, 105, 104, 106, 107, 110, 108]`. Compute **daily returns** (percentage) and **cumulative return**."
   ]
  },
  {
   "cell_type": "code",
   "execution_count": 43,
   "id": "c9e56a2c",
   "metadata": {},
   "outputs": [
    {
     "name": "stdout",
     "output_type": "stream",
     "text": [
      "Daily returns (%): [ 2.         -0.98039216  1.98019802  1.94174757 -0.95238095  1.92307692\n",
      "  0.94339623  2.80373832 -1.81818182]\n",
      "Cumulative return (%): 8.0\n"
     ]
    }
   ],
   "source": [
    "p = np.array([100, 102, 101, 103, 105, 104, 106, 107, 110, 108])\n",
    "daily_returns = (p[1:] - p[:-1]) / p[:-1] * 100\n",
    "print(\"Daily returns (%):\", daily_returns)\n",
    "cumulative_return = (p[-1] - p[0]) / p[0] * 100\n",
    "print(\"Cumulative return (%):\", cumulative_return)\n"
   ]
  },
  {
   "cell_type": "markdown",
   "id": "53554713",
   "metadata": {},
   "source": [
    "**9.2 Demography**: Ages of 20 people are in an array. Compute mean, median, std, and the proportion aged 18–30. *(Generate random integers 10–80 with a fixed seed.)*"
   ]
  },
  {
   "cell_type": "code",
   "execution_count": 198,
   "id": "574bbb97",
   "metadata": {},
   "outputs": [
    {
     "name": "stdout",
     "output_type": "stream",
     "text": [
      "Ages: [61 24 70 30 33 12 31 62 11 39 47 11 73 69 30 42 67 31 58 68]\n",
      "\n",
      "Mean age: 43.45\n",
      "Median age: 40.5\n",
      "Standard deviation: 20.66512763086645\n",
      "Proportion aged 18–30: 0.15\n"
     ]
    }
   ],
   "source": [
    "# Set random seed \n",
    "np.random.seed(42)\n",
    "\n",
    "# Generate ages of 20 people between 10 and 80\n",
    "ages = np.random.randint(10, 81, size=20)\n",
    "print(\"Ages:\", ages)\n",
    "\n",
    "# 1️⃣ Compute mean\n",
    "mean_age = np.mean(ages)\n",
    "\n",
    "# 2️⃣ Compute median\n",
    "median_age = np.median(ages)\n",
    "\n",
    "# 3️⃣ Compute standard deviation\n",
    "std_age = np.std(ages)\n",
    "\n",
    "# 4️⃣ Compute proportion aged 18–30\n",
    "proportion_18_30 = np.sum((ages >= 18) & (ages <= 30)) / len(ages)\n",
    "\n",
    "# Print results\n",
    "print(\"\\nMean age:\", mean_age)\n",
    "print(\"Median age:\", median_age)\n",
    "print(\"Standard deviation:\", std_age)\n",
    "print(\"Proportion aged 18–30:\", proportion_18_30)\n"
   ]
  },
  {
   "cell_type": "markdown",
   "id": "e22f9a0a",
   "metadata": {},
   "source": [
    "**9.3 Quality Control**: Simulate 1,000 measurements with true value 50 and measurement noise `N(0, 2^2)`. What fraction of measurements fall within ±3 of the true value?"
   ]
  },
  {
   "cell_type": "code",
   "execution_count": 47,
   "id": "4eb14df1",
   "metadata": {},
   "outputs": [
    {
     "name": "stdout",
     "output_type": "stream",
     "text": [
      "Fraction within ±3: 0.868\n"
     ]
    }
   ],
   "source": [
    "# Set random seed\n",
    "np.random.seed(42)\n",
    "\n",
    "# True value and noise\n",
    "true_value = 50\n",
    "sigma = 2\n",
    "\n",
    "# Generate 1000 measurements with Gaussian noise\n",
    "measurements = true_value + np.random.normal(0, sigma, 1000)\n",
    "\n",
    "# Compute fraction within ±3\n",
    "within_tolerance = np.mean((measurements >= 47) & (measurements <= 53))\n",
    "\n",
    "print(\"Fraction within ±3:\", within_tolerance)\n"
   ]
  },
  {
   "cell_type": "markdown",
   "id": "3072efea",
   "metadata": {},
   "source": [
    "**9.4 A/B Testing**: Variant A converts 48/500 users; Variant B converts 62/500. Compute conversion rates and the **absolute lift** (B−A). Simulate 10,000 bootstrap samples of the lift."
   ]
  },
  {
   "cell_type": "code",
   "execution_count": 48,
   "id": "4813520d",
   "metadata": {},
   "outputs": [
    {
     "name": "stdout",
     "output_type": "stream",
     "text": [
      "Conversion rate A: 0.096\n",
      "Conversion rate B: 0.124\n",
      "Absolute lift (B-A): 0.027999999999999997\n"
     ]
    }
   ],
   "source": [
    "# Observed conversions\n",
    "conversions_A = 48\n",
    "conversions_B = 62\n",
    "n_A = 500\n",
    "n_B = 500\n",
    "\n",
    "# Conversion rates\n",
    "rate_A = conversions_A / n_A\n",
    "rate_B = conversions_B / n_B\n",
    "\n",
    "# Absolute lift (B - A)\n",
    "lift = rate_B - rate_A\n",
    "\n",
    "print(\"Conversion rate A:\", rate_A)\n",
    "print(\"Conversion rate B:\", rate_B)\n",
    "print(\"Absolute lift (B-A):\", lift)\n"
   ]
  },
  {
   "cell_type": "markdown",
   "id": "ecf24e23",
   "metadata": {},
   "source": [
    "**9.5 Sports Analytics**: Given player scores over 8 games, compute moving average with window size 3 using vectorized operations (no loops). *(Generate random integers 0–30.)*"
   ]
  },
  {
   "cell_type": "code",
   "execution_count": 49,
   "id": "1b8f06a2",
   "metadata": {},
   "outputs": [
    {
     "name": "stdout",
     "output_type": "stream",
     "text": [
      "Scores: [ 6 19 28 14 10  7 28 20]\n",
      "Moving average (window=3): [17.66666667 20.33333333 17.33333333 10.33333333 15.         18.33333333]\n"
     ]
    }
   ],
   "source": [
    "import numpy as np\n",
    "\n",
    "# Set random seed for reproducibility\n",
    "np.random.seed(42)\n",
    "\n",
    "# Generate player scores for 8 games (0–30)\n",
    "scores = np.random.randint(0, 31, size=8)\n",
    "print(\"Scores:\", scores)\n",
    "\n",
    "# Option 1: Using np.convolve\n",
    "window_size = 3\n",
    "moving_avg = np.convolve(scores, np.ones(window_size)/window_size, mode='valid')\n",
    "print(\"Moving average (window=3):\", moving_avg)\n",
    "\n"
   ]
  },
  {
   "cell_type": "markdown",
   "id": "aff5e46a",
   "metadata": {},
   "source": [
    "**9.6 Image Mini‑Task**: Create a 10×10 grayscale image as a NumPy array with a white square (value 255) in the center and 0 elsewhere. Compute its mean pixel value."
   ]
  },
  {
   "cell_type": "code",
   "execution_count": 50,
   "id": "6b1291dd",
   "metadata": {},
   "outputs": [
    {
     "name": "stdout",
     "output_type": "stream",
     "text": [
      "Mean pixel value: 40.8\n"
     ]
    }
   ],
   "source": [
    "# Create 10x10 image with all zeros (black)\n",
    "img = np.zeros((10,10), dtype=np.uint8)\n",
    "\n",
    "img[3:7, 3:7] = 255\n",
    "\n",
    "mean_pixel = img.mean()\n",
    "print(\"Mean pixel value:\", mean_pixel)\n",
    "\n"
   ]
  },
  {
   "cell_type": "markdown",
   "id": "be3986c8",
   "metadata": {},
   "source": [
    "**9.7 Logistics**: There are 5 warehouses with inventories `[40, 55, 20, 80, 60]` and 4 stores with demands `[30, 50, 40, 35]`. Using NumPy (not loops), compute how many units remain after fulfilling demands sequentially from warehouses."
   ]
  },
  {
   "cell_type": "code",
   "execution_count": 51,
   "id": "63d5bfa4",
   "metadata": {},
   "outputs": [
    {
     "name": "stdout",
     "output_type": "stream",
     "text": [
      "Remaining units after fulfilling demands sequentially: [225 175 135 100]\n"
     ]
    }
   ],
   "source": [
    "import numpy as np\n",
    "\n",
    "# Inventories and demands\n",
    "warehouses = np.array([40, 55, 20, 80, 60])\n",
    "stores = np.array([30, 50, 40, 35])\n",
    "\n",
    "# Compute cumulative inventories and demands\n",
    "cum_inventory = np.cumsum(warehouses)\n",
    "cum_demand = np.cumsum(stores)\n",
    "\n",
    "# Remaining units after each store\n",
    "remaining_after_each_store = cum_inventory[-1] - cum_demand\n",
    "remaining_after_each_store = np.maximum(remaining_after_each_store, 0)\n",
    "\n",
    "print(\"Remaining units after fulfilling demands sequentially:\", remaining_after_each_store)\n"
   ]
  }
 ],
 "metadata": {
  "kernelspec": {
   "display_name": "Python 3 (ipykernel)",
   "language": "python",
   "name": "python3"
  },
  "language_info": {
   "codemirror_mode": {
    "name": "ipython",
    "version": 3
   },
   "file_extension": ".py",
   "mimetype": "text/x-python",
   "name": "python",
   "nbconvert_exporter": "python",
   "pygments_lexer": "ipython3",
   "version": "3.11.4"
  },
  "varInspector": {
   "cols": {
    "lenName": 16,
    "lenType": 16,
    "lenVar": 40
   },
   "kernels_config": {
    "python": {
     "delete_cmd_postfix": "",
     "delete_cmd_prefix": "del ",
     "library": "var_list.py",
     "varRefreshCmd": "print(var_dic_list())"
    },
    "r": {
     "delete_cmd_postfix": ") ",
     "delete_cmd_prefix": "rm(",
     "library": "var_list.r",
     "varRefreshCmd": "cat(var_dic_list()) "
    }
   },
   "types_to_exclude": [
    "module",
    "function",
    "builtin_function_or_method",
    "instance",
    "_Feature"
   ],
   "window_display": false
  }
 },
 "nbformat": 4,
 "nbformat_minor": 5
}
